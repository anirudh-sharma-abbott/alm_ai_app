{
 "cells": [
  {
   "cell_type": "code",
   "execution_count": 1,
   "id": "c44bac8e",
   "metadata": {},
   "outputs": [],
   "source": [
    "import pandas as pd"
   ]
  },
  {
   "cell_type": "code",
   "execution_count": 2,
   "id": "b6410719",
   "metadata": {},
   "outputs": [],
   "source": [
    "# Load the Excel files\n",
    "frs_file = \"../data/Requirements_ALM.xlsx\"\n",
    "urs_file = \"../data/URS_Folder_ALM.xlsx\"\n",
    "\n",
    "# Load both datasets\n",
    "frs_df = pd.read_excel(frs_file)\n",
    "urs_df = pd.read_excel(urs_file)"
   ]
  },
  {
   "cell_type": "code",
   "execution_count": 3,
   "id": "5648847e",
   "metadata": {},
   "outputs": [],
   "source": [
    "# Step 1: Filter only FRS-type requirements\n",
    "frs_only = frs_df[frs_df['Name'].str.startswith(\"FRS.\")].copy()"
   ]
  },
  {
   "cell_type": "code",
   "execution_count": 5,
   "id": "0a17673e",
   "metadata": {},
   "outputs": [],
   "source": [
    "# Step 2: Merge FRS → URS using Req Parent\n",
    "merged = frs_only.merge(\n",
    "    urs_df[['Name', 'Req Parent']],\n",
    "    left_on='Req Parent',\n",
    "    right_on='Name',\n",
    "    suffixes=('_FRS', '_URS')\n",
    ")"
   ]
  },
  {
   "cell_type": "code",
   "execution_count": 6,
   "id": "4e0a64e5",
   "metadata": {},
   "outputs": [
    {
     "data": {
      "text/html": [
       "<div>\n",
       "<style scoped>\n",
       "    .dataframe tbody tr th:only-of-type {\n",
       "        vertical-align: middle;\n",
       "    }\n",
       "\n",
       "    .dataframe tbody tr th {\n",
       "        vertical-align: top;\n",
       "    }\n",
       "\n",
       "    .dataframe thead th {\n",
       "        text-align: right;\n",
       "    }\n",
       "</style>\n",
       "<table border=\"1\" class=\"dataframe\">\n",
       "  <thead>\n",
       "    <tr style=\"text-align: right;\">\n",
       "      <th></th>\n",
       "      <th>Req ID</th>\n",
       "      <th>Name_FRS</th>\n",
       "      <th>Req Parent_FRS</th>\n",
       "      <th>Description</th>\n",
       "      <th>Direct Cover Status</th>\n",
       "      <th>Author</th>\n",
       "      <th>Creation Date</th>\n",
       "      <th>Target Cycle</th>\n",
       "      <th>Requirement Classification</th>\n",
       "      <th>Requirement Type</th>\n",
       "      <th>Regulatory Risk</th>\n",
       "      <th>Name_URS</th>\n",
       "      <th>Req Parent_URS</th>\n",
       "    </tr>\n",
       "  </thead>\n",
       "  <tbody>\n",
       "    <tr>\n",
       "      <th>0</th>\n",
       "      <td>639</td>\n",
       "      <td>FRS.007.48</td>\n",
       "      <td>URS.007</td>\n",
       "      <td>The system shall display a delete button on th...</td>\n",
       "      <td>Passed</td>\n",
       "      <td>novodkx</td>\n",
       "      <td>4/28/2025</td>\n",
       "      <td>CIA 001</td>\n",
       "      <td>5 - Non-Regulated</td>\n",
       "      <td>Functional</td>\n",
       "      <td>Non-Regulated</td>\n",
       "      <td>URS.007</td>\n",
       "      <td>Calls Management</td>\n",
       "    </tr>\n",
       "    <tr>\n",
       "      <th>1</th>\n",
       "      <td>638</td>\n",
       "      <td>FRS.029.06</td>\n",
       "      <td>URS.029</td>\n",
       "      <td>System shall auto-include the following additi...</td>\n",
       "      <td>Not Covered</td>\n",
       "      <td>nagax2</td>\n",
       "      <td>4/24/2025</td>\n",
       "      <td>Release - R25R3</td>\n",
       "      <td>2 - Quality Non-Critical (QNC)</td>\n",
       "      <td>Functional</td>\n",
       "      <td>Non-Critical</td>\n",
       "      <td>URS.029</td>\n",
       "      <td>Sample Allocation Automation</td>\n",
       "    </tr>\n",
       "    <tr>\n",
       "      <th>2</th>\n",
       "      <td>637</td>\n",
       "      <td>FRS.029.05</td>\n",
       "      <td>URS.029</td>\n",
       "      <td>Informatica shall send a success or failure em...</td>\n",
       "      <td>Not Covered</td>\n",
       "      <td>nagax2</td>\n",
       "      <td>4/18/2025</td>\n",
       "      <td>Release - R25R3</td>\n",
       "      <td>2 - Quality Non-Critical (QNC)</td>\n",
       "      <td>Functional</td>\n",
       "      <td>Non-Critical</td>\n",
       "      <td>URS.029</td>\n",
       "      <td>Sample Allocation Automation</td>\n",
       "    </tr>\n",
       "    <tr>\n",
       "      <th>3</th>\n",
       "      <td>636</td>\n",
       "      <td>FRS.029.04</td>\n",
       "      <td>URS.029</td>\n",
       "      <td>Informatica shall update the below values on S...</td>\n",
       "      <td>Not Covered</td>\n",
       "      <td>nagax2</td>\n",
       "      <td>4/18/2025</td>\n",
       "      <td>Release - R25R3</td>\n",
       "      <td>2 - Quality Non-Critical (QNC)</td>\n",
       "      <td>Functional</td>\n",
       "      <td>Non-Critical</td>\n",
       "      <td>URS.029</td>\n",
       "      <td>Sample Allocation Automation</td>\n",
       "    </tr>\n",
       "    <tr>\n",
       "      <th>4</th>\n",
       "      <td>635</td>\n",
       "      <td>FRS.029.03</td>\n",
       "      <td>URS.029</td>\n",
       "      <td>Informatica shall generate the details file fo...</td>\n",
       "      <td>Not Covered</td>\n",
       "      <td>nagax2</td>\n",
       "      <td>4/18/2025</td>\n",
       "      <td>Release - R25R3</td>\n",
       "      <td>2 - Quality Non-Critical (QNC)</td>\n",
       "      <td>Functional</td>\n",
       "      <td>Non-Critical</td>\n",
       "      <td>URS.029</td>\n",
       "      <td>Sample Allocation Automation</td>\n",
       "    </tr>\n",
       "  </tbody>\n",
       "</table>\n",
       "</div>"
      ],
      "text/plain": [
       "   Req ID    Name_FRS Req Parent_FRS  \\\n",
       "0     639  FRS.007.48        URS.007   \n",
       "1     638  FRS.029.06        URS.029   \n",
       "2     637  FRS.029.05        URS.029   \n",
       "3     636  FRS.029.04        URS.029   \n",
       "4     635  FRS.029.03        URS.029   \n",
       "\n",
       "                                         Description Direct Cover Status  \\\n",
       "0  The system shall display a delete button on th...              Passed   \n",
       "1  System shall auto-include the following additi...         Not Covered   \n",
       "2  Informatica shall send a success or failure em...         Not Covered   \n",
       "3  Informatica shall update the below values on S...         Not Covered   \n",
       "4  Informatica shall generate the details file fo...         Not Covered   \n",
       "\n",
       "    Author Creation Date     Target Cycle      Requirement Classification  \\\n",
       "0  novodkx     4/28/2025          CIA 001               5 - Non-Regulated   \n",
       "1   nagax2     4/24/2025  Release - R25R3  2 - Quality Non-Critical (QNC)   \n",
       "2   nagax2     4/18/2025  Release - R25R3  2 - Quality Non-Critical (QNC)   \n",
       "3   nagax2     4/18/2025  Release - R25R3  2 - Quality Non-Critical (QNC)   \n",
       "4   nagax2     4/18/2025  Release - R25R3  2 - Quality Non-Critical (QNC)   \n",
       "\n",
       "  Requirement Type Regulatory Risk Name_URS                Req Parent_URS  \n",
       "0       Functional   Non-Regulated  URS.007              Calls Management  \n",
       "1       Functional    Non-Critical  URS.029  Sample Allocation Automation  \n",
       "2       Functional    Non-Critical  URS.029  Sample Allocation Automation  \n",
       "3       Functional    Non-Critical  URS.029  Sample Allocation Automation  \n",
       "4       Functional    Non-Critical  URS.029  Sample Allocation Automation  "
      ]
     },
     "execution_count": 6,
     "metadata": {},
     "output_type": "execute_result"
    }
   ],
   "source": [
    "merged.head()"
   ]
  },
  {
   "cell_type": "code",
   "execution_count": 38,
   "id": "80fca71a",
   "metadata": {},
   "outputs": [
    {
     "name": "stdout",
     "output_type": "stream",
     "text": [
      "Merged columns: ['Req ID', 'Name_FRS', 'Req Parent_FRS', 'Description', 'Direct Cover Status', 'Author', 'Creation Date', 'Target Cycle', 'Requirement Classification', 'Requirement Type', 'Regulatory Risk', 'Name_URS', 'Req Parent_URS']\n"
     ]
    }
   ],
   "source": [
    "print(\"Merged columns:\", merged.columns.tolist())"
   ]
  },
  {
   "cell_type": "code",
   "execution_count": 39,
   "id": "b8a11fad",
   "metadata": {},
   "outputs": [],
   "source": [
    "# Step 3: Rename columns using actual column names\n",
    "merged = merged.rename(columns={\n",
    "    'Req ID': 'FRS Req ID',\n",
    "    'Name_FRS': 'FRS Name',\n",
    "    'Name_URS': 'URS ID',\n",
    "    'Req Parent_URS': 'Folder Name'\n",
    "})\n",
    "\n",
    "# Step 4: Select output columns\n",
    "output_df = merged[['FRS Req ID', 'FRS Name', 'URS ID', 'Folder Name']].copy()"
   ]
  },
  {
   "cell_type": "code",
   "execution_count": null,
   "id": "e3d239ab",
   "metadata": {},
   "outputs": [],
   "source": [
    "# Step 4: Select final output columns with correct metadata\n",
    "output_df = merged[[ \n",
    "    'FRS Req ID',\n",
    "    'FRS Name',\n",
    "    'URS ID',\n",
    "    'Folder Name',\n",
    "    'Description',\n",
    "    'Requirement Classification',\n",
    "    'Regulatory Risk'\n",
    "]].copy()"
   ]
  },
  {
   "cell_type": "code",
   "execution_count": 41,
   "id": "94ea8475",
   "metadata": {},
   "outputs": [
    {
     "name": "stdout",
     "output_type": "stream",
     "text": [
      "   FRS Req ID    FRS Name   URS ID                   Folder Name  \\\n",
      "0         639  FRS.007.48  URS.007              Calls Management   \n",
      "1         638  FRS.029.06  URS.029  Sample Allocation Automation   \n",
      "2         637  FRS.029.05  URS.029  Sample Allocation Automation   \n",
      "3         636  FRS.029.04  URS.029  Sample Allocation Automation   \n",
      "4         635  FRS.029.03  URS.029  Sample Allocation Automation   \n",
      "\n",
      "                                         Description  \\\n",
      "0  The system shall display a delete button on th...   \n",
      "1  System shall auto-include the following additi...   \n",
      "2  Informatica shall send a success or failure em...   \n",
      "3  Informatica shall update the below values on S...   \n",
      "4  Informatica shall generate the details file fo...   \n",
      "\n",
      "       Requirement Classification Regulatory Risk  \n",
      "0               5 - Non-Regulated   Non-Regulated  \n",
      "1  2 - Quality Non-Critical (QNC)    Non-Critical  \n",
      "2  2 - Quality Non-Critical (QNC)    Non-Critical  \n",
      "3  2 - Quality Non-Critical (QNC)    Non-Critical  \n",
      "4  2 - Quality Non-Critical (QNC)    Non-Critical  \n"
     ]
    }
   ],
   "source": [
    "# Step 5: Preview result\n",
    "print(output_df.head())"
   ]
  },
  {
   "cell_type": "code",
   "execution_count": 42,
   "id": "d3ef9a43",
   "metadata": {},
   "outputs": [
    {
     "name": "stdout",
     "output_type": "stream",
     "text": [
      "Mapping complete. File saved to /outputs/frs_to_folder_mapping.xlsx\n"
     ]
    }
   ],
   "source": [
    "# Step 6: Save to Excel\n",
    "output_df.to_excel(\"../outputs/frs_to_folder_mapping.xlsx\", index=False)\n",
    "print(\"Mapping complete. File saved to /outputs/frs_to_folder_mapping.xlsx\")"
   ]
  },
  {
   "cell_type": "code",
   "execution_count": null,
   "id": "c27f4e6b",
   "metadata": {},
   "outputs": [],
   "source": []
  }
 ],
 "metadata": {
  "kernelspec": {
   "display_name": "Python 3",
   "language": "python",
   "name": "python3"
  },
  "language_info": {
   "codemirror_mode": {
    "name": "ipython",
    "version": 3
   },
   "file_extension": ".py",
   "mimetype": "text/x-python",
   "name": "python",
   "nbconvert_exporter": "python",
   "pygments_lexer": "ipython3",
   "version": "3.12.1"
  }
 },
 "nbformat": 4,
 "nbformat_minor": 5
}
